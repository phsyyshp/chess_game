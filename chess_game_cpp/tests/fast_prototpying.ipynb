{
 "cells": [
  {
   "cell_type": "code",
   "execution_count": 13,
   "metadata": {},
   "outputs": [
    {
     "name": "stdout",
     "output_type": "stream",
     "text": [
      "00000000\n",
      "00000000\n",
      "00000000\n",
      "00000000\n",
      "00000100\n",
      "00000000\n",
      "00000000\n",
      "00000000\n",
      "\n"
     ]
    }
   ],
   "source": [
    "bit_board_str = f\"{1<<26:064b}\"\n",
    "b = \"\"\n",
    "for i, char in enumerate(bit_board_str):\n",
    "    line = char if (i + 1) % 8 != 0 else char + \"\\n\"\n",
    "    b += line\n",
    "\n",
    "print(b)"
   ]
  },
  {
   "cell_type": "code",
   "execution_count": null,
   "metadata": {},
   "outputs": [],
   "source": []
  }
 ],
 "metadata": {
  "kernelspec": {
   "display_name": "base",
   "language": "python",
   "name": "python3"
  },
  "language_info": {
   "codemirror_mode": {
    "name": "ipython",
    "version": 3
   },
   "file_extension": ".py",
   "mimetype": "text/x-python",
   "name": "python",
   "nbconvert_exporter": "python",
   "pygments_lexer": "ipython3",
   "version": "3.10.9"
  },
  "orig_nbformat": 4
 },
 "nbformat": 4,
 "nbformat_minor": 2
}
