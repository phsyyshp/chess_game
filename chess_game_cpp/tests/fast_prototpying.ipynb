{
 "cells": [
  {
   "cell_type": "code",
   "execution_count": 1,
   "metadata": {},
   "outputs": [
    {
     "name": "stdout",
     "output_type": "stream",
     "text": [
      "\n"
     ]
    }
   ],
   "source": [
    "bit_board_str = f\"{1<<26:064b}\"\n",
    "b = \"\"\n",
    "def printcb(bitboard):\n",
    "    b = \"\"\n",
    "    bitboard = f\"{bitboard:064b}\"\n",
    "    for i, char in enumerate(bitboard):\n",
    "        line = char if (i + 1) % 8 != 0 else char + \"\\n\"\n",
    "        b += line\n",
    "    print(b)\n",
    "print(b)"
   ]
  },
  {
   "cell_type": "code",
   "execution_count": 2,
   "metadata": {},
   "outputs": [],
   "source": [
    "def printcb(pieces):\n",
    "    for i in range(7, -1, -1):\n",
    "        for j in range(8):\n",
    "            # Check if the bit at the position (j + i * 8) is set\n",
    "            if pieces & (1 << (j + i * 8)):\n",
    "                print('1', end='')\n",
    "            else:\n",
    "                print('0', end='')\n",
    "        print()  # Newline after each row\n",
    "    print()  # Extra newline at the end\n"
   ]
  },
  {
   "cell_type": "code",
   "execution_count": 7,
   "metadata": {},
   "outputs": [
    {
     "name": "stdout",
     "output_type": "stream",
     "text": [
      "11110111\n",
      "11111111\n",
      "00001000\n",
      "00000000\n",
      "00000000\n",
      "00000000\n",
      "11111111\n",
      "10111111\n",
      "\n"
     ]
    }
   ],
   "source": [
    "dummy_bitboard = (1<<25)|(1<<20)|(1<<21)\n",
    "# print(f\"{pawns:064b}\")\n",
    "# printcb(pawns)\n",
    "# printcb(dummy_bitboard)\n",
    "# printcb(pawns<<8&~dummy_bitboard)\n",
    "pawns_at_initial_config = pawns & ((1 << 2 * 8) - 1)\n",
    "# printcb(pawns_at_initial_config)\n",
    "a=pawns_at_initial_config<<16\n",
    "# printcb(a)\n",
    "a=a>>9\n",
    "# a=0b1\n",
    "a = 17293558686312103933\n",
    "printcb(a)\n",
    "# printcb(a&~(0b1<<24))\n",
    " \n"
   ]
  }
 ],
 "metadata": {
  "kernelspec": {
   "display_name": "base",
   "language": "python",
   "name": "python3"
  },
  "language_info": {
   "codemirror_mode": {
    "name": "ipython",
    "version": 3
   },
   "file_extension": ".py",
   "mimetype": "text/x-python",
   "name": "python",
   "nbconvert_exporter": "python",
   "pygments_lexer": "ipython3",
   "version": "3.10.12"
  },
  "orig_nbformat": 4
 },
 "nbformat": 4,
 "nbformat_minor": 2
}
