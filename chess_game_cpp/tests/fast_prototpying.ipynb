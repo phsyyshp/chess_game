{
 "cells": [
  {
   "cell_type": "code",
   "execution_count": 7,
   "metadata": {},
   "outputs": [
    {
     "name": "stdout",
     "output_type": "stream",
     "text": [
      "\n"
     ]
    }
   ],
   "source": [
    "bit_board_str = f\"{1<<26:064b}\"\n",
    "b = \"\"\n",
    "def printcb(bitboard):\n",
    "    b = \"\"\n",
    "    bitboard = f\"{bitboard:064b}\"\n",
    "    for i, char in enumerate(bitboard):\n",
    "        line = char if (i + 1) % 8 != 0 else char + \"\\n\"\n",
    "        b += line\n",
    "    print(b)\n",
    "print(b)"
   ]
  },
  {
   "cell_type": "code",
   "execution_count": 12,
   "metadata": {},
   "outputs": [
    {
     "name": "stdout",
     "output_type": "stream",
     "text": [
      "00000000\n",
      "00000000\n",
      "00000000\n",
      "00000000\n",
      "00000000\n",
      "00000000\n",
      "11111111\n",
      "00000000\n",
      "\n",
      "00000000\n",
      "00000000\n",
      "00000000\n",
      "00000000\n",
      "00000010\n",
      "00110000\n",
      "00000000\n",
      "00000000\n",
      "\n",
      "00000000\n",
      "00000000\n",
      "00000000\n",
      "00000000\n",
      "00000000\n",
      "11001111\n",
      "00000000\n",
      "00000000\n",
      "\n"
     ]
    }
   ],
   "source": [
    "pawns = 0b11111111\n",
    "pawns = pawns <<8\n",
    "dummy_bitboard = (1<<25)|(1<<20)|(1<<21)\n",
    "# print(f\"{pawns:064b}\")\n",
    "printcb(pawns)\n",
    "printcb(dummy_bitboard)\n",
    "printcb(pawns<<8&~dummy_bitboard)\n"
   ]
  },
  {
   "cell_type": "code",
   "execution_count": null,
   "metadata": {},
   "outputs": [],
   "source": []
  }
 ],
 "metadata": {
  "kernelspec": {
   "display_name": "base",
   "language": "python",
   "name": "python3"
  },
  "language_info": {
   "codemirror_mode": {
    "name": "ipython",
    "version": 3
   },
   "file_extension": ".py",
   "mimetype": "text/x-python",
   "name": "python",
   "nbconvert_exporter": "python",
   "pygments_lexer": "ipython3",
   "version": "3.10.9"
  },
  "orig_nbformat": 4
 },
 "nbformat": 4,
 "nbformat_minor": 2
}
