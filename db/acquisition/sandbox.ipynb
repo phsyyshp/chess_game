{
 "cells": [
  {
   "cell_type": "code",
   "execution_count": 36,
   "metadata": {},
   "outputs": [],
   "source": [
    "with open(\"pgn_files/lichess.pgn\", \"r\") as f:\n",
    "    inputstr=f.read(200_000_000)\n",
    "# inputstr = \"\\\\\\'\".join(inputstr.split('\\''))\n",
    "inputstr = \"\\\"]\".join(inputstr.split(\" \\\"]\"))\n",
    "inputstr = \"SEPERATOR\".join(inputstr.split(\"\\n\\n\"))\n",
    "inputstr = \"][moves \\\"\".join(inputstr.split(\"]SEPERATOR\"))\n",
    "inputstr = \"\\\"}, {\\\"\".join(inputstr.split(\"SEPERATOR[\"))\n",
    "inputstr= \"\\\": \\\"\".join(inputstr.split(\" \\\"\"))\n",
    "inputstr= \"\".join(inputstr.splitlines())\n",
    "inputstr = \"\\\", \\\"\".join(inputstr.split(\"\\\"][\"))\n",
    "inputstr = inputstr.rsplit(\"}, {\\\"Event\",1)[0]\n",
    "inputstr = \"[{\\\"\" + inputstr[1:] + \"}]\"\n",
    "# print(\"\\\"},\\n {\\\"\".join(inputstr.split(\"\\\"}, {\\\"\")))gccg"
   ]
  },
  {
   "cell_type": "code",
   "execution_count": 37,
   "metadata": {},
   "outputs": [],
   "source": [
    "import pandas as pd\n",
    "\n",
    "df = pd.read_json(inputstr)"
   ]
  },
  {
   "cell_type": "code",
   "execution_count": null,
   "metadata": {},
   "outputs": [],
   "source": [
    "#upload to database\n",
    "df.to_sql('lichess_games', con=engine, if_exists='append', index=False)\n"
   ]
  },
  {
   "cell_type": "code",
   "execution_count": null,
   "metadata": {},
   "outputs": [],
   "source": [
    "# inputstr2='araba\\nmemek\\n\\n\\nbljablja\\n\\nskdfjh\\ndspf\\nsdlkj\\n\\nsdjkfh'  \n",
    "inputstr = \"PSDA\".join(inputstr.split('\\''))#\n",
    "inputstr = \"^\".join(inputstr.split(','))#\n",
    "inputstr= \"\\\"]\".join(inputstr.split(\" \\\"]\"))\n",
    "# inputstr= \"\\\"\".join(inputstr.split(\"\\\" \"))\n",
    "inputstr= \"$\".join(inputstr.split(\"{\"))\n",
    "inputstr= \"$\".join(inputstr.split(\"}\"))\n",
    "inputstr = \"SEPERATOR\".join(inputstr.split(\"\\n\\n\"))\n",
    "inputstr = \"][moves \\\"\".join(inputstr.split(\"]SEPERATOR\"))\n",
    "inputstr = \"\\\"}, {\\\"\".join(inputstr.split(\"SEPERATOR[\"))\n",
    "inputstr= \"\\\": \\\"\".join(inputstr.split(\" \\\"\"))\n",
    "inputstr= \"\".join(inputstr.split())\n",
    "\n",
    "\n",
    "inputstr = \"\\\", \\\"\".join(inputstr.split(\"\\\"][\"))\n",
    "inputstr = inputstr.rsplit(\"}, {\\\"Event\",1)[0]\n",
    "inputstr = \"[{\\\"\" + inputstr[1:] + \"\\\"}]\"\n",
    "# inputstr = \"$\".join(inputstr.split(' \"')is)\n",
    "# print(\",\\n\".join(inputstr.split(\",\")))\n",
    "# print(inputstr)"
   ]
  },
  {
   "cell_type": "code",
   "execution_count": null,
   "metadata": {},
   "outputs": [],
   "source": []
  }
 ],
 "metadata": {
  "kernelspec": {
   "display_name": "base",
   "language": "python",
   "name": "python3"
  },
  "language_info": {
   "codemirror_mode": {
    "name": "ipython",
    "version": 3
   },
   "file_extension": ".py",
   "mimetype": "text/x-python",
   "name": "python",
   "nbconvert_exporter": "python",
   "pygments_lexer": "ipython3",
   "version": "3.10.9"
  },
  "orig_nbformat": 4
 },
 "nbformat": 4,
 "nbformat_minor": 2
}
